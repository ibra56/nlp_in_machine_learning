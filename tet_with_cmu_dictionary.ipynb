{
 "cells": [
  {
   "cell_type": "code",
   "execution_count": 1,
   "metadata": {},
   "outputs": [
    {
     "name": "stderr",
     "output_type": "stream",
     "text": [
      "[nltk_data] Downloading package cmudict to\n",
      "[nltk_data]     C:\\Users\\nnyen\\AppData\\Roaming\\nltk_data...\n",
      "[nltk_data]   Package cmudict is already up-to-date!\n"
     ]
    },
    {
     "name": "stdout",
     "output_type": "stream",
     "text": [
      "Running on local URL:  http://127.0.0.1:7862\n",
      "\n",
      "To create a public link, set `share=True` in `launch()`.\n"
     ]
    },
    {
     "data": {
      "text/html": [
       "<div><iframe src=\"http://127.0.0.1:7862/\" width=\"100%\" height=\"500\" allow=\"autoplay; camera; microphone; clipboard-read; clipboard-write;\" frameborder=\"0\" allowfullscreen></iframe></div>"
      ],
      "text/plain": [
       "<IPython.core.display.HTML object>"
      ]
     },
     "metadata": {},
     "output_type": "display_data"
    },
    {
     "data": {
      "text/plain": []
     },
     "execution_count": 1,
     "metadata": {},
     "output_type": "execute_result"
    }
   ],
   "source": [
    "import gradio as gr\n",
    "import nltk\n",
    "\n",
    "# Download the CMU Pronouncing Dictionary\n",
    "nltk.download(\"cmudict\")\n",
    "\n",
    "# Load the CMU Pronouncing Dictionary\n",
    "pronouncing_dict = nltk.corpus.cmudict.dict()\n",
    "\n",
    "# Function to convert text to its phonetic representation\n",
    "def text_to_phonetic(text):\n",
    "    words = text.split()\n",
    "    phonetic_output = []\n",
    "    for word in words:\n",
    "        # Check if word exists in the CMU Pronouncing Dictionary\n",
    "        if word.lower() in pronouncing_dict:\n",
    "            phonetic_output.append(\" \".join(pronouncing_dict[word.lower()][0]))\n",
    "        else:\n",
    "            phonetic_output.append(\"UNKNOWN\")\n",
    "    return \" | \".join(phonetic_output)\n",
    "\n",
    "# Create a Gradio interface\n",
    "input_text = gr.Textbox(lines=2, label=\"Enter some text:\")\n",
    "output_text = gr.Textbox(label=\"Phonetic Representation:\")\n",
    "\n",
    "interface = gr.Interface(inputs=input_text, outputs=output_text, fn=text_to_phonetic, title=\"Text to Phonetic Interface\")\n",
    "\n",
    "# Launch the interface\n",
    "interface.launch(share=True)\n"
   ]
  },
  {
   "cell_type": "markdown",
   "metadata": {},
   "source": []
  }
 ],
 "metadata": {
  "kernelspec": {
   "display_name": "Python 3",
   "language": "python",
   "name": "python3"
  },
  "language_info": {
   "codemirror_mode": {
    "name": "ipython",
    "version": 3
   },
   "file_extension": ".py",
   "mimetype": "text/x-python",
   "name": "python",
   "nbconvert_exporter": "python",
   "pygments_lexer": "ipython3",
   "version": "3.11.8"
  }
 },
 "nbformat": 4,
 "nbformat_minor": 2
}
